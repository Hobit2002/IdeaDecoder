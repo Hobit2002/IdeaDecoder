{
 "cells": [
  {
   "cell_type": "code",
   "execution_count": null,
   "metadata": {},
   "outputs": [],
   "source": [
    "import os\n",
    "import torch\n",
    "import librosa\n",
    "import numpy as np\n",
    "from torch import nn, optim\n",
    "from torch.utils.data import Dataset\n",
    "from torch.utils.data import DataLoader\n",
    "from cp_resnet import get_model\n",
    "from sklearn.metrics import accuracy_score, f1_score, confusion_matrix\n",
    "from tqdm import tqdm\n",
    "\n",
    "n_mels = 64\n",
    "segment_length = 3  # seconds\n",
    "sample_rate = 16000\n",
    "\n",
    "root_dir = \"browser_recordings/browser_recordings/\"\n",
    "test_dir = \"real_world_traffic/\"\n",
    "\n",
    "def compute_mel(audio, sr=16000, n_mels=64):\n",
    "    mel = librosa.feature.melspectrogram(\n",
    "        y=audio,\n",
    "        sr=sr,\n",
    "        n_mels=n_mels,\n",
    "        hop_length=256,\n",
    "        n_fft=1024,\n",
    "        power=2.0\n",
    "    )\n",
    "    mel_db = librosa.power_to_db(mel, ref=np.max)\n",
    "    mel_db = (mel_db - np.mean(mel_db)) / (np.std(mel_db) + 1e-6)\n",
    "    mel_tensor = torch.tensor(mel_db, dtype=torch.float32).unsqueeze(0).unsqueeze(0)\n",
    "    return mel_tensor"
   ]
  },
  {
   "cell_type": "code",
   "execution_count": 2,
   "metadata": {},
   "outputs": [],
   "source": [
    "class AudioDataset(Dataset):\n",
    "    def __init__(self, root_dir, process_fn, ignored_folder, transform=None):\n",
    "        \"\"\"\n",
    "        Args:\n",
    "            root_dir (str): Path to main folder containing subfolders.\n",
    "            process_fn (callable): Function to process raw audio to desired numpy array.\n",
    "            ignored_folder (str): Name of subfolder to ignore.\n",
    "            transform (callable, optional): Optional transform to apply to processed data.\n",
    "        \"\"\"\n",
    "        self.root_dir = root_dir\n",
    "        self.process_fn = process_fn\n",
    "        self.transform = transform\n",
    "        self.ignored_folder = ignored_folder\n",
    "        \n",
    "        self.file_paths = []\n",
    "        self.labels = []\n",
    "        self.label_map = {}  # map folder names to numeric labels\n",
    "        self._prepare_dataset()\n",
    "\n",
    "    def _prepare_dataset(self):\n",
    "        # List subfolders\n",
    "        subfolders = [d for d in os.listdir(self.root_dir)\n",
    "                      if os.path.isdir(os.path.join(self.root_dir, d)) and d != self.ignored_folder]\n",
    "        \n",
    "        # Create label map\n",
    "        self.label_map = {name: idx for idx, name in enumerate(subfolders)}\n",
    "        \n",
    "        for label_name in subfolders:\n",
    "            folder_path = os.path.join(self.root_dir, label_name)\n",
    "            for fname in os.listdir(folder_path):\n",
    "                if fname.endswith('.npy'):  # Adjust extension if needed\n",
    "                    self.file_paths.append(os.path.join(folder_path, fname))\n",
    "                    self.labels.append(self.label_map[label_name])\n",
    "\n",
    "    def __len__(self):\n",
    "        return len(self.file_paths)\n",
    "\n",
    "    def __getitem__(self, idx):\n",
    "        audio_path = self.file_paths[idx]\n",
    "        label = self.labels[idx]\n",
    "        \n",
    "        # Load audio\n",
    "        audio_data = np.load(audio_path)[:48000]  # (samples,) or (samples, channels)\n",
    "        # Process audio\n",
    "        processed = self.process_fn(audio_data)\n",
    "        processed = processed.squeeze(0)\n",
    "        # Optional transform (e.g. normalization, tensor conversion)\n",
    "        if self.transform:\n",
    "            processed = self.transform(processed)\n",
    "        return processed, label\n"
   ]
  },
  {
   "cell_type": "code",
   "execution_count": 3,
   "metadata": {},
   "outputs": [],
   "source": [
    "audio_data = AudioDataset(root_dir, compute_mel, 'uncertain')\n",
    "dataloader = DataLoader(audio_data, batch_size=32, shuffle=True)\n",
    "\n",
    "test_a_data = AudioDataset(test_dir, compute_mel, 'uncertain')\n",
    "test_loader = DataLoader(test_a_data, batch_size=32, shuffle=True)"
   ]
  },
  {
   "cell_type": "code",
   "execution_count": 4,
   "metadata": {},
   "outputs": [
    {
     "name": "stdout",
     "output_type": "stream",
     "text": [
      "0 0.08333333333333333 0.5\n",
      "1 0.08333333333333333 0.5\n",
      "2 0.05892556509887896 0.5\n",
      "3 0.04914731871829904 0.5\n"
     ]
    }
   ],
   "source": [
    "model = get_model(n_classes=1, in_channels=1)\n"
   ]
  },
  {
   "cell_type": "code",
   "execution_count": 5,
   "metadata": {},
   "outputs": [
    {
     "name": "stderr",
     "output_type": "stream",
     "text": [
      "Epoch [1/30]:   0%|          | 0/18 [00:00<?, ?it/s]"
     ]
    },
    {
     "name": "stdout",
     "output_type": "stream",
     "text": [
      "x: torch.Size([32, 1, 64, 188])\n",
      "in_c: torch.Size([32, 32, 31, 93])\n",
      "stage1: torch.Size([32, 32, 3, 46])\n",
      "stage2: torch.Size([32, 64, 3, 46])\n",
      "stage3: torch.Size([32, 92, 3, 46])\n",
      "feed_forward: torch.Size([32, 1, 1, 1])\n",
      "logit: torch.Size([32, 1])\n"
     ]
    },
    {
     "name": "stderr",
     "output_type": "stream",
     "text": [
      "                                                                          \r"
     ]
    }
   ],
   "source": [
    "device = torch.device(\"cuda\" if torch.cuda.is_available() else \"cpu\")\n",
    "model = model.to(device)\n",
    "\n",
    "# Binary cross entropy with logits (useful if model outputs logits)\n",
    "criterion = nn.BCEWithLogitsLoss()\n",
    "optimizer = optim.Adam(model.parameters(), lr=1e-3)\n",
    "\n",
    "# Number of epochs\n",
    "num_epochs = 30\n",
    "\n",
    "for epoch in range(num_epochs):\n",
    "    model.train()\n",
    "    epoch_loss = 0.0\n",
    "    \n",
    "    loop = tqdm(dataloader, desc=f\"Epoch [{epoch+1}/{num_epochs}]\", leave=False, dynamic_ncols=True)\n",
    "    \n",
    "    for batch_data, batch_labels in loop:\n",
    "        batch_data = batch_data.to(device)\n",
    "        batch_labels = batch_labels.to(device).float().unsqueeze(1)  # (N,) -> (N,1)\n",
    "        \n",
    "        # Forward pass\n",
    "        outputs = model(batch_data)\n",
    "        \n",
    "        # Compute loss\n",
    "        loss = criterion(outputs, batch_labels)\n",
    "        \n",
    "        # Backprop and optimize\n",
    "        optimizer.zero_grad()\n",
    "        loss.backward()\n",
    "        optimizer.step()\n",
    "        \n",
    "        # Update epoch loss\n",
    "        epoch_loss += loss.item() * batch_data.size(0)\n",
    "        \n",
    "        # Update tqdm description\n",
    "        loop.set_postfix(loss=loss.item())\n",
    "\n",
    "    avg_loss = epoch_loss / len(dataloader.dataset)\n",
    "    if epoch+1 % 5 == 0:\n",
    "        print(f\"Epoch [{epoch+1}/{num_epochs}] - Average Loss: {avg_loss:.4f}\")\n"
   ]
  },
  {
   "cell_type": "code",
   "execution_count": 6,
   "metadata": {},
   "outputs": [
    {
     "name": "stdout",
     "output_type": "stream",
     "text": [
      "Accuracy: 0.9781\n",
      "F1 Score: 0.9718\n",
      "Confusion Matrix:\n",
      "[[329   4]\n",
      " [  8 207]]\n"
     ]
    }
   ],
   "source": [
    "model.eval()\n",
    "all_labels = []\n",
    "all_preds = []\n",
    "\n",
    "with torch.no_grad():\n",
    "    for batch_data, batch_labels in dataloader:\n",
    "        batch_data = batch_data.to(device)\n",
    "        batch_labels = batch_labels.to(device).float().unsqueeze(1)\n",
    "        \n",
    "        outputs = model(batch_data)  # [batch_size, 1]\n",
    "        \n",
    "        # Apply sigmoid since model gives logits\n",
    "        probs = torch.sigmoid(outputs)\n",
    "        \n",
    "        # Convert to 0/1 predictions\n",
    "        preds = (probs >= 0.5).int()\n",
    "        \n",
    "        all_labels.append(batch_labels.cpu())\n",
    "        all_preds.append(preds.cpu())\n",
    "\n",
    "# Concatenate all batches\n",
    "all_labels = torch.cat(all_labels).numpy()\n",
    "all_preds = torch.cat(all_preds).numpy()\n",
    "\n",
    "# Flatten in case of shape (N,1)\n",
    "all_labels = all_labels.flatten()\n",
    "all_preds = all_preds.flatten()\n",
    "\n",
    "# Calculate metrics\n",
    "acc = accuracy_score(all_labels, all_preds)\n",
    "f1 = f1_score(all_labels, all_preds)\n",
    "cm = confusion_matrix(all_labels, all_preds)\n",
    "\n",
    "print(f\"Accuracy: {acc:.4f}\")\n",
    "print(f\"F1 Score: {f1:.4f}\")\n",
    "print(\"Confusion Matrix:\")\n",
    "print(cm)\n"
   ]
  },
  {
   "cell_type": "code",
   "execution_count": 7,
   "metadata": {},
   "outputs": [],
   "source": [
    "def test_model(model, test_loader, device):\n",
    "    model.eval()\n",
    "    all_labels = []\n",
    "    all_preds = []\n",
    "\n",
    "    with torch.no_grad():\n",
    "        for batch_data, batch_labels in test_loader:\n",
    "            batch_data = batch_data.to(device)\n",
    "            batch_labels = batch_labels.to(device).float().unsqueeze(1)\n",
    "\n",
    "            outputs = model(batch_data)\n",
    "            probs = torch.sigmoid(outputs)\n",
    "            preds = (probs >= 0.5).int()\n",
    "\n",
    "            all_labels.append(batch_labels.cpu())\n",
    "            all_preds.append(preds.cpu())\n",
    "\n",
    "    # Concatenate results\n",
    "    all_labels = torch.cat(all_labels).numpy().flatten()\n",
    "    all_preds = torch.cat(all_preds).numpy().flatten()\n",
    "\n",
    "    # Compute metrics\n",
    "    acc = accuracy_score(all_labels, all_preds)\n",
    "    f1 = f1_score(all_labels, all_preds)\n",
    "    cm = confusion_matrix(all_labels, all_preds)\n",
    "\n",
    "    # Print or return\n",
    "    print(f\"Test Accuracy: {acc:.4f}\")\n",
    "    print(f\"Test F1 Score: {f1:.4f}\")\n",
    "    print(\"Test Confusion Matrix:\")\n",
    "    print(cm)\n",
    "\n",
    "    return acc, f1, cm\n"
   ]
  },
  {
   "cell_type": "code",
   "execution_count": 8,
   "metadata": {},
   "outputs": [
    {
     "name": "stdout",
     "output_type": "stream",
     "text": [
      "Test Accuracy: 0.8770\n",
      "Test F1 Score: 0.8340\n",
      "Test Confusion Matrix:\n",
      "[[180  17]\n",
      " [ 22  98]]\n"
     ]
    }
   ],
   "source": [
    "result = test_model(model, test_loader, device)"
   ]
  },
  {
   "cell_type": "code",
   "execution_count": 9,
   "metadata": {},
   "outputs": [],
   "source": [
    "torch.save(model.state_dict(), 'speech_recog.pth')"
   ]
  }
 ],
 "metadata": {
  "kernelspec": {
   "display_name": "main2",
   "language": "python",
   "name": "python3"
  },
  "language_info": {
   "codemirror_mode": {
    "name": "ipython",
    "version": 3
   },
   "file_extension": ".py",
   "mimetype": "text/x-python",
   "name": "python",
   "nbconvert_exporter": "python",
   "pygments_lexer": "ipython3",
   "version": "3.12.9"
  }
 },
 "nbformat": 4,
 "nbformat_minor": 2
}
